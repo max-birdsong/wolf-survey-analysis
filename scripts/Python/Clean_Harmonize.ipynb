{
 "cells": [
  {
   "metadata": {},
   "cell_type": "markdown",
   "source": "## Wolf Survey: Data Harmonization & License Merge (Python)",
   "id": "de36195ffaa07937"
  },
  {
   "metadata": {},
   "cell_type": "markdown",
   "source": [
    "## Purpose:\n",
    "- Read 4 SPSS survey files\n",
    "- Harmonize differing schemas into one table\n",
    "- Standardize a join key (common_address) and merge hunting/fishing license flags\n",
    "- Export a clean CSV for downstream analysis & plotting\n",
    "\n",
    "## Why this matters\n",
    "\n",
    "Real survey pipelines involve messy schemas and external merges. This notebook demonstrates a real-life expample of such a task\n",
    "\n",
    "## Tech Stack\n",
    "\n",
    "pandas, pyreadstat, numpy"
   ],
   "id": "c8eb3e1234a4d693"
  },
  {
   "metadata": {
    "ExecuteTime": {
     "end_time": "2025-08-26T10:00:44.409302Z",
     "start_time": "2025-08-26T10:00:44.388363Z"
    }
   },
   "cell_type": "markdown",
   "source": "# 1. Import and Setup",
   "id": "81a23848991577ca"
  },
  {
   "metadata": {
    "collapsed": true,
    "ExecuteTime": {
     "end_time": "2025-08-26T10:18:53.535134Z",
     "start_time": "2025-08-26T10:18:53.517774Z"
    }
   },
   "cell_type": "code",
   "source": [
    "import sys, os, re, glob\n",
    "import pandas as pd\n",
    "import numpy as np"
   ],
   "id": "f42d78e6216cb0f8",
   "outputs": [],
   "execution_count": 9
  },
  {
   "metadata": {},
   "cell_type": "markdown",
   "source": "# 2. Read survey .sav files and tag with group variable",
   "id": "ad2fd9716c3b6007"
  },
  {
   "metadata": {},
   "cell_type": "markdown",
   "source": "###### I infer the stakeholder group from the filename (Deer / Land / House / Wolf) and add a Group column.",
   "id": "375b43b67a62b797"
  },
  {
   "metadata": {
    "ExecuteTime": {
     "end_time": "2025-08-26T10:59:51.048375Z",
     "start_time": "2025-08-26T10:59:47.976842Z"
    }
   },
   "cell_type": "code",
   "outputs": [
    {
     "data": {
      "text/plain": [
       "(4,\n",
       " [(1500, 25), (2487, 21), (5000, 22), (1000, 24)],\n",
       " ['Deer', 'Land', 'House', 'Wolf'])"
      ]
     },
     "execution_count": 10,
     "metadata": {},
     "output_type": "execute_result"
    }
   ],
   "execution_count": 10,
   "source": [
    "import pyreadstat as prs\n",
    "\n",
    "# data directory\n",
    "DATA_DIR = r\"D:\\MontanaBackup\\WolfData\\TrackingData\"\n",
    "\n",
    "files = [\n",
    "    \"Final Tracking Deer Elk Hunter Wolf Survey 2023.sav\",\n",
    "    \"Final Tracking Landowner Wolf Survey 2023.sav\",\n",
    "    \"Final Tracking Wolf Household Survey 2023.sav\",\n",
    "    \"Final Tracking Wolf Hunter Wolf Survey 2023.sav\",\n",
    "]\n",
    "paths = [os.path.join(DATA_DIR, f) for f in files]\n",
    "\n",
    "def infer_group_from_name(fname: str) -> str:\n",
    "    n = os.path.basename(fname).lower()\n",
    "    if \"deer\" in n: return \"Deer\"\n",
    "    if \"land\" in n: return \"Land\"\n",
    "    if \"house\" in n: return \"House\"\n",
    "    if \"wolf\" in n: return \"Wolf\"\n",
    "    return \"Unknown\"\n",
    "\n",
    "dfs = []\n",
    "for p in paths:\n",
    "    df, meta = prs.read_sav(p, apply_value_formats=False)\n",
    "    df[\"Group\"] = infer_group_from_name(p)\n",
    "    dfs.append(df)\n",
    "\n",
    "len(dfs), [d.shape for d in dfs], [d[\"Group\"].iloc[0] for d in dfs]"
   ],
   "id": "5c5cec65995f3c88"
  },
  {
   "metadata": {},
   "cell_type": "markdown",
   "source": "# 3. Harmonize across surveys",
   "id": "719b84c892bac62e"
  },
  {
   "metadata": {},
   "cell_type": "markdown",
   "source": "###### Each file can have slightly different columns. I create the superset of columns and add any missing as NaN. I also prefer ADDRESS (renaming ADDRESS1 → ADDRESS when needed) so downstream address logic has a consistent key.",
   "id": "29f30d4ec2b77ce"
  },
  {
   "metadata": {
    "ExecuteTime": {
     "end_time": "2025-08-26T13:09:08.727525Z",
     "start_time": "2025-08-26T13:09:08.463563Z"
    }
   },
   "cell_type": "code",
   "outputs": [
    {
     "data": {
      "text/plain": [
       "(9987, 49)"
      ]
     },
     "execution_count": 27,
     "metadata": {},
     "output_type": "execute_result"
    }
   ],
   "execution_count": 27,
   "source": [
    "all_cols = list({c for d in dfs for c in d.columns})\n",
    "\n",
    "harmonized = []\n",
    "for d in dfs:\n",
    "    missing = [c for c in all_cols if c not in d.columns]\n",
    "    for c in missing:\n",
    "        d[c] = np.nan\n",
    "\n",
    "    if \"ADDRESS1\" in d.columns and \"ADDRESS\" not in d.columns:\n",
    "        d = d.rename(columns={\"ADDRESS1\": \"ADDRESS\"})\n",
    "\n",
    "    d = d[all_cols]\n",
    "    harmonized.append(d)\n",
    "\n",
    "merged = pd.concat(harmonized, ignore_index=True)\n",
    "merged.shape"
   ],
   "id": "aed0c7a76bacd91"
  },
  {
   "metadata": {
    "ExecuteTime": {
     "end_time": "2025-08-26T11:56:32.552538Z",
     "start_time": "2025-08-26T11:56:31.770152Z"
    }
   },
   "cell_type": "code",
   "outputs": [
    {
     "data": {
      "text/plain": [
       "((9987, 49),\n",
       " Group\n",
       " House    5000\n",
       " Land     2487\n",
       " Deer     1500\n",
       " Wolf     1000\n",
       " Name: count, dtype: int64)"
      ]
     },
     "execution_count": 15,
     "metadata": {},
     "output_type": "execute_result"
    }
   ],
   "execution_count": 15,
   "source": [
    "merged = pd.concat(harmonized, ignore_index=True)\n",
    "merged.shape, merged[\"Group\"].value_counts(dropna=False)"
   ],
   "id": "3acb42908d104214"
  },
  {
   "metadata": {},
   "cell_type": "markdown",
   "source": "# 4. Clean ZIP + build COMMMON_ADDRESS",
   "id": "7d443b3450302453"
  },
  {
   "metadata": {
    "ExecuteTime": {
     "end_time": "2025-08-26T13:34:48.114326Z",
     "start_time": "2025-08-26T13:34:48.102297Z"
    }
   },
   "cell_type": "markdown",
   "source": "###### I standardize ZIP → 5 digits, concatenate ADDRESS (optionally with ADDRESS2 if it starts with APT/UNIT/TRLR), CITY, STATE, and ZIP. All uppercase, single spaces. This gives an exact-match join key across sources.",
   "id": "25722b097171b862"
  },
  {
   "metadata": {
    "ExecuteTime": {
     "end_time": "2025-08-26T13:11:48.508091Z",
     "start_time": "2025-08-26T13:11:47.914282Z"
    }
   },
   "cell_type": "code",
   "source": [
    "def zip5(z):\n",
    "    if pd.isna(z): return np.nan\n",
    "    s = re.sub(r\"[^0-9]\", \"\", str(z))\n",
    "    return s[:5] if s else np.nan\n",
    "\n",
    "merged[\"ZIP\"] = merged[\"ZIP\"].map(zip5) if \"ZIP\" in merged.columns else np.nan\n",
    "\n",
    "def build_common_address(row):\n",
    "    addr = row.get(\"ADDRESS\")\n",
    "    addr2 = row.get(\"ADDRESS2\")\n",
    "    if pd.notna(addr2) and re.match(r\"^(APT|UNIT|TRLR)\", str(addr2), flags=re.I):\n",
    "        addr = f\"{addr} {addr2}\" if pd.notna(addr) else addr2\n",
    "    elif (pd.isna(addr) or str(addr).strip()==\"\") and pd.notna(addr2):\n",
    "        addr = addr2\n",
    "    parts = [addr, row.get(\"CITY\"), row.get(\"STATE\"), row.get(\"ZIP\")]\n",
    "    out = \" \".join([str(p) for p in parts if pd.notna(p) and str(p).strip()])\n",
    "    out = re.sub(r\"\\s+\", \" \", out).strip()\n",
    "    return out.upper() if out else np.nan\n",
    "\n",
    "merged[\"COMMON_ADDRESS\"] = merged.apply(build_common_address, axis=1)\n",
    "merged[[\"ADDRESS\",\"ADDRESS2\",\"CITY\",\"STATE\",\"ZIP\",\"COMMON_ADDRESS\"]].head()"
   ],
   "id": "56f320d4f99d3359",
   "outputs": [
    {
     "data": {
      "text/plain": [
       "                       ADDRESS ADDRESS2     CITY STATE    ZIP  \\\n",
       "0                 2 MICHAEL ST      NaN  GLASGOW    MT  59230   \n",
       "1            2 TIMBER RIDGE CT      NaN   CLANCY    MT  59634   \n",
       "2           70 JOHNNYS COAL RD      NaN  ROUNDUP    MT  59072   \n",
       "3  1 JACKSON CREEK RD PMB 2005      NaN   CLANCY    MT  59634   \n",
       "4            1 MERGENTHALER RD      NaN   CLANCY    MT  59634   \n",
       "\n",
       "                                COMMON_ADDRESS  \n",
       "0                2 MICHAEL ST GLASGOW MT 59230  \n",
       "1            2 TIMBER RIDGE CT CLANCY MT 59634  \n",
       "2          70 JOHNNYS COAL RD ROUNDUP MT 59072  \n",
       "3  1 JACKSON CREEK RD PMB 2005 CLANCY MT 59634  \n",
       "4            1 MERGENTHALER RD CLANCY MT 59634  "
      ],
      "text/html": [
       "<div>\n",
       "<style scoped>\n",
       "    .dataframe tbody tr th:only-of-type {\n",
       "        vertical-align: middle;\n",
       "    }\n",
       "\n",
       "    .dataframe tbody tr th {\n",
       "        vertical-align: top;\n",
       "    }\n",
       "\n",
       "    .dataframe thead th {\n",
       "        text-align: right;\n",
       "    }\n",
       "</style>\n",
       "<table border=\"1\" class=\"dataframe\">\n",
       "  <thead>\n",
       "    <tr style=\"text-align: right;\">\n",
       "      <th></th>\n",
       "      <th>ADDRESS</th>\n",
       "      <th>ADDRESS2</th>\n",
       "      <th>CITY</th>\n",
       "      <th>STATE</th>\n",
       "      <th>ZIP</th>\n",
       "      <th>COMMON_ADDRESS</th>\n",
       "    </tr>\n",
       "  </thead>\n",
       "  <tbody>\n",
       "    <tr>\n",
       "      <th>0</th>\n",
       "      <td>2 MICHAEL ST</td>\n",
       "      <td>NaN</td>\n",
       "      <td>GLASGOW</td>\n",
       "      <td>MT</td>\n",
       "      <td>59230</td>\n",
       "      <td>2 MICHAEL ST GLASGOW MT 59230</td>\n",
       "    </tr>\n",
       "    <tr>\n",
       "      <th>1</th>\n",
       "      <td>2 TIMBER RIDGE CT</td>\n",
       "      <td>NaN</td>\n",
       "      <td>CLANCY</td>\n",
       "      <td>MT</td>\n",
       "      <td>59634</td>\n",
       "      <td>2 TIMBER RIDGE CT CLANCY MT 59634</td>\n",
       "    </tr>\n",
       "    <tr>\n",
       "      <th>2</th>\n",
       "      <td>70 JOHNNYS COAL RD</td>\n",
       "      <td>NaN</td>\n",
       "      <td>ROUNDUP</td>\n",
       "      <td>MT</td>\n",
       "      <td>59072</td>\n",
       "      <td>70 JOHNNYS COAL RD ROUNDUP MT 59072</td>\n",
       "    </tr>\n",
       "    <tr>\n",
       "      <th>3</th>\n",
       "      <td>1 JACKSON CREEK RD PMB 2005</td>\n",
       "      <td>NaN</td>\n",
       "      <td>CLANCY</td>\n",
       "      <td>MT</td>\n",
       "      <td>59634</td>\n",
       "      <td>1 JACKSON CREEK RD PMB 2005 CLANCY MT 59634</td>\n",
       "    </tr>\n",
       "    <tr>\n",
       "      <th>4</th>\n",
       "      <td>1 MERGENTHALER RD</td>\n",
       "      <td>NaN</td>\n",
       "      <td>CLANCY</td>\n",
       "      <td>MT</td>\n",
       "      <td>59634</td>\n",
       "      <td>1 MERGENTHALER RD CLANCY MT 59634</td>\n",
       "    </tr>\n",
       "  </tbody>\n",
       "</table>\n",
       "</div>"
      ]
     },
     "execution_count": 28,
     "metadata": {},
     "output_type": "execute_result"
    }
   ],
   "execution_count": 28
  },
  {
   "metadata": {},
   "cell_type": "markdown",
   "source": "# 5. Add hunting/fishing license flags",
   "id": "ef5f37c2c8da4e22"
  },
  {
   "metadata": {},
   "cell_type": "markdown",
   "source": "###### I read the 2023 hunting/fishing license lists and build the exact same COMMON_ADDRESS format so the join is apples-to-apples.",
   "id": "39115312404869d1"
  },
  {
   "metadata": {
    "ExecuteTime": {
     "end_time": "2025-08-26T13:12:33.073885Z",
     "start_time": "2025-08-26T13:12:25.540626Z"
    }
   },
   "cell_type": "code",
   "source": [
    "# paths to your license CSVs\n",
    "hunt_path = os.path.join(DATA_DIR, \"Copy of Resident Base Hunting List 2023.csv\")\n",
    "fish_path = os.path.join(DATA_DIR, \"Copy of Resident Fishing List 2023.csv\")\n",
    "\n",
    "hunt = pd.read_csv(hunt_path, dtype={hunt.columns[1]: str})\n",
    "fish = pd.read_csv(fish_path)\n",
    "\n",
    "def prep_license(df):\n",
    "    # try to find columns by common names\n",
    "    def first(*cands):\n",
    "        for c in cands:\n",
    "            if c in df.columns: return c\n",
    "    addr = first(\"Address\",\"ADDRESS\",\"address\")\n",
    "    city = first(\"City\",\"CITY\",\"city\")\n",
    "    state= first(\"State\",\"STATE\",\"state\")\n",
    "    zipc = first(\"Zip\",\"ZIP\",\"zip\")\n",
    "\n",
    "    df[\"Zip5\"] = df[zipc].map(zip5)\n",
    "    parts = []\n",
    "    for c in [addr, city, state, \"Zip5\"]:\n",
    "        parts.append(df[c].astype(str) if c in df.columns else \"\")\n",
    "    addr_str = (parts[0].str.cat(parts[1], sep=\" \")\n",
    "                          .str.cat(parts[2], sep=\" \")\n",
    "                          .str.cat(parts[3], sep=\" \"))\n",
    "    addr_str = addr_str.str.replace(r\"\\s+\", \" \", regex=True).str.strip().str.upper()\n",
    "    return addr_str.dropna().unique()\n",
    "\n",
    "hunt_addrs = set(prep_license(hunt))\n",
    "fish_addrs = set(prep_license(fish))\n",
    "\n",
    "merged[\"hunting_license\"] = np.where(merged[\"COMMON_ADDRESS\"].isin(hunt_addrs), 1, 0)\n",
    "merged[\"fishing_license\"] = np.where(merged[\"COMMON_ADDRESS\"].isin(fish_addrs), 1, 0)\n",
    "\n",
    "merged[[\"COMMON_ADDRESS\",\"hunting_license\",\"fishing_license\"]].head()"
   ],
   "id": "54f02c794b7500a3",
   "outputs": [
    {
     "data": {
      "text/plain": [
       "                                COMMON_ADDRESS  hunting_license  \\\n",
       "0                2 MICHAEL ST GLASGOW MT 59230                1   \n",
       "1            2 TIMBER RIDGE CT CLANCY MT 59634                0   \n",
       "2          70 JOHNNYS COAL RD ROUNDUP MT 59072                0   \n",
       "3  1 JACKSON CREEK RD PMB 2005 CLANCY MT 59634                0   \n",
       "4            1 MERGENTHALER RD CLANCY MT 59634                0   \n",
       "\n",
       "   fishing_license  \n",
       "0                1  \n",
       "1                0  \n",
       "2                0  \n",
       "3                0  \n",
       "4                0  "
      ],
      "text/html": [
       "<div>\n",
       "<style scoped>\n",
       "    .dataframe tbody tr th:only-of-type {\n",
       "        vertical-align: middle;\n",
       "    }\n",
       "\n",
       "    .dataframe tbody tr th {\n",
       "        vertical-align: top;\n",
       "    }\n",
       "\n",
       "    .dataframe thead th {\n",
       "        text-align: right;\n",
       "    }\n",
       "</style>\n",
       "<table border=\"1\" class=\"dataframe\">\n",
       "  <thead>\n",
       "    <tr style=\"text-align: right;\">\n",
       "      <th></th>\n",
       "      <th>COMMON_ADDRESS</th>\n",
       "      <th>hunting_license</th>\n",
       "      <th>fishing_license</th>\n",
       "    </tr>\n",
       "  </thead>\n",
       "  <tbody>\n",
       "    <tr>\n",
       "      <th>0</th>\n",
       "      <td>2 MICHAEL ST GLASGOW MT 59230</td>\n",
       "      <td>1</td>\n",
       "      <td>1</td>\n",
       "    </tr>\n",
       "    <tr>\n",
       "      <th>1</th>\n",
       "      <td>2 TIMBER RIDGE CT CLANCY MT 59634</td>\n",
       "      <td>0</td>\n",
       "      <td>0</td>\n",
       "    </tr>\n",
       "    <tr>\n",
       "      <th>2</th>\n",
       "      <td>70 JOHNNYS COAL RD ROUNDUP MT 59072</td>\n",
       "      <td>0</td>\n",
       "      <td>0</td>\n",
       "    </tr>\n",
       "    <tr>\n",
       "      <th>3</th>\n",
       "      <td>1 JACKSON CREEK RD PMB 2005 CLANCY MT 59634</td>\n",
       "      <td>0</td>\n",
       "      <td>0</td>\n",
       "    </tr>\n",
       "    <tr>\n",
       "      <th>4</th>\n",
       "      <td>1 MERGENTHALER RD CLANCY MT 59634</td>\n",
       "      <td>0</td>\n",
       "      <td>0</td>\n",
       "    </tr>\n",
       "  </tbody>\n",
       "</table>\n",
       "</div>"
      ]
     },
     "execution_count": 29,
     "metadata": {},
     "output_type": "execute_result"
    }
   ],
   "execution_count": 29
  },
  {
   "metadata": {},
   "cell_type": "markdown",
   "source": "# 6. Export clean dataset",
   "id": "cb03fd009724c8d4"
  },
  {
   "metadata": {
    "ExecuteTime": {
     "end_time": "2025-08-26T13:13:06.180363Z",
     "start_time": "2025-08-26T13:13:03.735670Z"
    }
   },
   "cell_type": "code",
   "source": [
    "OUT_PATH = os.path.join(DATA_DIR, \"Wolf_Survey_Cleaned.csv\")\n",
    "merged.to_csv(OUT_PATH, index=False)\n",
    "OUT_PATH"
   ],
   "id": "6f94da72a6412513",
   "outputs": [
    {
     "data": {
      "text/plain": [
       "'D:\\\\MontanaBackup\\\\WolfData\\\\TrackingData\\\\Wolf_Survey_Cleaned.csv'"
      ]
     },
     "execution_count": 30,
     "metadata": {},
     "output_type": "execute_result"
    }
   ],
   "execution_count": 30
  }
 ],
 "metadata": {
  "kernelspec": {
   "display_name": "Python 3",
   "language": "python",
   "name": "python3"
  },
  "language_info": {
   "codemirror_mode": {
    "name": "ipython",
    "version": 2
   },
   "file_extension": ".py",
   "mimetype": "text/x-python",
   "name": "python",
   "nbconvert_exporter": "python",
   "pygments_lexer": "ipython2",
   "version": "2.7.6"
  }
 },
 "nbformat": 4,
 "nbformat_minor": 5
}
